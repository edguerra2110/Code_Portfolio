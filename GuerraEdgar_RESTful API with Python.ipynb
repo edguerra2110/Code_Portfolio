{
 "cells": [
  {
   "cell_type": "markdown",
   "id": "statutory-surgeon",
   "metadata": {},
   "source": [
    "*********************************************************************************************************\n",
    "# A Tour of Python 3\n",
    "version 0.10 (beta)  \n",
    "Authors: Phil Pfeiffer, Zack Bunch, and Feyisayo Oyeniyi  \n",
    "East Tennessee State University  \n",
    "Last updated April 2021  \n",
    "*********************************************************************************************************"
   ]
  },
  {
   "cell_type": "markdown",
   "id": "thirty-tamil",
   "metadata": {},
   "source": [
    "# Contents <a name='Contents'></a>   \n",
    "X. [RESTful APIs With Python](#RESTful-APIs-With-Python)  \n",
    " &ensp;X.1 [Interfaces, APIs, and API Architectures](#Interfaces-API-and-API-Architectures)  \n",
    " &ensp;X.2 [REST](#REST)  \n",
    " &ensp;X.3 [RESTful APIs](#RESTful-APIs)<br> \n",
    " &ensp;&ensp;X.3.1 [RESTful API Constraints](#RESTful-API-Constraints)<br>\n",
    " &ensp;X.4 [Python Support for REST-Based Data Access](#Python-Support-for-REST-Based-Data-Access)  <br>\n",
    " &ensp;&ensp; X.4.1 [JSON](#JSON)  <br>\n",
    " &ensp;&ensp; X.4.2 [HTTP](#HTTP)  <br>"
   ]
  },
  {
   "cell_type": "markdown",
   "id": "fantastic-shelter",
   "metadata": {},
   "source": [
    "# X RESTful APIs With Python <a name='RESTful-APIs-With-Python'></a>\n"
   ]
  },
  {
   "cell_type": "markdown",
   "id": "sharp-synthesis",
   "metadata": {},
   "source": [
    "## X.1 Interfaces, APIs, and API Architectures <a name='Interfaces-API-and-API-Architectures'></a>\n"
   ]
  },
  {
   "cell_type": "markdown",
   "id": "hindu-grant",
   "metadata": {},
   "source": [
    "An interface to a system is a control, or a set of controls, that affords access to that system’s state and/or operation. A common example of an interface is an automobile’s dashboard. A dashboard contains controls that enable a driver to start, drive, monitor, and stop a car without understanding how a car’s components operate.\n",
    "\n",
    "An Application Programmable Interface (API) is an interface through which components can access a software component’s state and/or functionality. APIs take different forms, depending on the requirements that they need to address. For example, an API can be designed to support stateful or stateless interactions between two interacting components: the former assumes that the components “remember” information about the sequence of interactions, while the latter requires each interaction to be self-contained. In a network environment, an API can be designed to “hide” the network—i.e., to blur the distinction between requests and procedure calls—or expose it. And the elements of an API’s interface can be given standard or custom names—again, depending on a system’s requirements.\n",
    "\n",
    "A set of well-known guidelines for designing an APIs is known as an API architecture.  Some common API architectures include RPC, SOAP, and REST. This module focuses on REST: a simple to use and common API architecture that was developed  in the context of the HTTP and HTTPS protocols.\n",
    "\n"
   ]
  },
  {
   "cell_type": "markdown",
   "id": "virtual-transsexual",
   "metadata": {},
   "source": [
    "## X.2 REST  <a name='REST'></a>\n"
   ]
  },
  {
   "cell_type": "markdown",
   "id": "unable-giant",
   "metadata": {},
   "source": [
    "The REST architecture was first described in Roy Fielding’s 2000 Ph.D. dissertation. Fielding argued that earlier API architectures for network communication, which used remote procedure call (RPC) to blur the distinction between accesses to local and networked components, were deeply flawed: i.e., that protocols for network communication had to expose challenges that were particular to networked environments to be effective. These challenges include latency, limitations on communications bandwidth, and interruptions of service such as server crashes. Fielding’s REST architecture, which stands for Representational State Transfer, emphasized the need for statelessness in network communications as a means of simplifying crash recovery. REST also defined HTTP, including the semantics of GET, PUT, and POST and the error codes for responding to problem requests.\n",
    "\n",
    "For more information on REST, consult  <a href=\"https://www.ics.uci.edu/~fielding/pubs/dissertation/top.htm\" target=\"_blank\">Roy Fielding’s dissertation.<a/> \n"
   ]
  },
  {
   "cell_type": "markdown",
   "id": "developing-township",
   "metadata": {},
   "source": [
    "## X.3 RESTful APIs <a name='RESTful-APIs'></a>\n"
   ]
  },
  {
   "cell_type": "markdown",
   "id": "legendary-strip",
   "metadata": {},
   "source": [
    "### X.3.1 RESTful API Constraints <a name=\"RESTful-API-Constraints\"></a>\n"
   ]
  },
  {
   "cell_type": "markdown",
   "id": "electrical-storage",
   "metadata": {},
   "source": [
    "A RESTful API is one that meets Fielding’s five constraints for API interaction:\n",
    "-The API supports client-server-style, request-response-based communications via HTTP.\n",
    "\n",
    "- Communications are stateless: i.e., every request is self-contained, in that it supplies all data needed to meet the request, including (e.g.) proof of the requestor’s authority to make the request. Statelessness simplifies maintenance by eliminating the need for servers to restart dialogues following crashes.\n",
    "\n",
    "- Responses must be cacheable. This allows for the server to reduce the number of calls made which improves the overall network efficiency and scalability; however, the developer must be wary of stale data.\n",
    "\n",
    "- The API must provide a uniform interface, as specified by Fielding. This includes support for the ability to query an interface’s version and data formatting protocols.\n",
    "\n",
    "- The  a layered system. This constraint allows for the use of load balancers to help with traffic or added security measures like gateways.\n"
   ]
  },
  {
   "cell_type": "markdown",
   "id": "healthy-evening",
   "metadata": {},
   "source": [
    "## X.4 Python Support for REST-Based Data Access <a name=\"Python-Support-for-REST-Based-Data-Access\"></a>"
   ]
  },
  {
   "cell_type": "markdown",
   "id": "prospective-catholic",
   "metadata": {},
   "source": [
    "### x.4.1 JSON <a name='JSON'></a>"
   ]
  },
  {
   "cell_type": "markdown",
   "id": "undefined-ideal",
   "metadata": {},
   "source": [
    "The JSON (JavaScript Object Notation) is one of several common markup-language-based standards for exchanging metadata-qualified content. JSON’s popularity is due in large part to its lightweight syntax and JQuery’s built-in support for JSON messaging.\n",
    "\n",
    "A JSON document is similar in form to a python dictionary. The following example illustrates Python library support for exchanging JSON data."
   ]
  },
  {
   "cell_type": "code",
   "execution_count": null,
   "id": "celtic-darwin",
   "metadata": {},
   "outputs": [],
   "source": [
    "# X.4.1.a.  Example of json.loads, which converts a JSON string to a python dict\n",
    "\n",
    "#import the json library\n",
    "import json\n",
    "\n",
    "# creating a string named colors in json format\n",
    "colors = '{ \"colors\": [ {\"color\": \"blue\"},{\"color\": \"red\"},{\"color\": \"green\"}] }'\n",
    "\n",
    "# turns a json string into a python dict \n",
    "colorsJSON = json.loads(colors)\n",
    "print(\"Prints out string as a json object: \\n\",colorsJSON,\"\\n\\ntype(colorsJSON): \",type(colorsJSON))\n"
   ]
  },
  {
   "cell_type": "code",
   "execution_count": null,
   "id": "meaningful-toner",
   "metadata": {},
   "outputs": [],
   "source": [
    "#X.4.1.b Example of how to format a JSON object \n",
    "\n",
    "#import the json library\n",
    "import json\n",
    "\n",
    "# creating a string named colors in json format\n",
    "colors = '{ \"colors\": [ {\"color\": \"blue\"},{\"color\": \"red\"},{\"color\": \"green\"}] }'\n",
    "\n",
    "# turns a json string into python object \n",
    "colorsJSON = json.loads(colors)\n",
    "\n",
    "# formats the json object to a formatted string \n",
    "formattedColorsJSON = json.dumps(colorsJSON, indent=4, sort_keys=True)\n",
    "print(\"formattedColorsJSON using json.dumps(): \\n\", formattedColorsJSON)\n",
    "\n",
    "# returns formattedColorsJSONs type \n",
    "print(\"\\n\\nformattedColorsJSON type: \\n\",type(formattedColorsJSON))\n"
   ]
  },
  {
   "cell_type": "code",
   "execution_count": null,
   "id": "developmental-monkey",
   "metadata": {},
   "outputs": [],
   "source": [
    "#X.4.1.c  Converting a python dictionary to a json object and parsing through to get the colors\n",
    "\n",
    "#import the json library\n",
    "import json\n",
    "\n",
    "# dictionary object with colors \n",
    "colors = '{ \"colors\": [ {\"color\": \"blue\",\"type\":\"main\"},{\"color\": \"red\",\"type\":\"main\"},{\"color\": \"green\",\"type\":\"main\"}] }'\n",
    "parseColors = json.loads(colors)\n",
    "# loop through and access the colors\n",
    "for color in parseColors['colors']:\n",
    "    print(color)\n"
   ]
  },
  {
   "cell_type": "markdown",
   "id": "careful-bonus",
   "metadata": {},
   "source": [
    "**Exercise (X points):**<br>\n",
    "In the following cell, write a program that grabs the individual colors from the colors string.<br><br>\n",
    "Example output:<br>\n",
    "blue<br>\n",
    "red<br>\n",
    "green<br>"
   ]
  },
  {
   "cell_type": "code",
   "execution_count": null,
   "id": "figured-philippines",
   "metadata": {},
   "outputs": [],
   "source": []
  },
  {
   "cell_type": "markdown",
   "id": "south-happiness",
   "metadata": {},
   "source": [
    "### X.4.2  HTTP<a name='HTTP'></a>"
   ]
  },
  {
   "cell_type": "markdown",
   "id": "normal-disabled",
   "metadata": {},
   "source": [
    "HTTP and its secure variant, HTTPS, are the standard protocols for communicating with RESTful APIs. HTTP provides five basic methods for supporting CRUD (create, read, update, delete) operations on persistent content:\n",
    "\n",
    "- `POST`  - used to create\n",
    "- `GET`   - used to read\n",
    "- `PUT`   - used to update/replace\n",
    "- `PATCH` - used to update/modify\n",
    "- `DELETE`- used to delete\n",
    "\n",
    "Python’s requests library supports HTTP-based communications between a program’s components."
   ]
  },
  {
   "cell_type": "code",
   "execution_count": null,
   "id": "weird-aside",
   "metadata": {
    "scrolled": false
   },
   "outputs": [],
   "source": [
    "#X.4.2.a Example for a successful get request using the request library and json \n",
    "import requests\n",
    "import json\n",
    "\n",
    "# this website supports the testing of HTTP requests.\n",
    "base = \"https://jsonplaceholder.typicode.com\"\n",
    "# to access users, add /users to the base URL\n",
    "getUsersURI = base+\"/users\"\n",
    "#use GET to get the users\n",
    "response = requests.get(getUsersURI) \n",
    "# print the status code and the response\n",
    "# if the request succeeded, the status code will be 200\n",
    "print(\"status code: \", response.status_code)\n",
    "print(json.dumps(response.json(),indent=4))\n"
   ]
  },
  {
   "cell_type": "markdown",
   "id": "enormous-silver",
   "metadata": {},
   "source": [
    "**Exercise (X points):**<br>\n",
    "In the following cell, write a program that grabs a user’s \"name\" and \"username\" using the /users URI."
   ]
  },
  {
   "cell_type": "code",
   "execution_count": null,
   "id": "hollywood-vault",
   "metadata": {},
   "outputs": [],
   "source": []
  },
  {
   "cell_type": "code",
   "execution_count": null,
   "id": "impressed-stocks",
   "metadata": {},
   "outputs": [],
   "source": [
    "#X.4.2.b Make an unsuccessful GET request using the request library and json \n",
    "import requests\n",
    "import json\n",
    "\n",
    "# this website supports the testing of HTTP-based requests.\n",
    "base = \"https://jsonplaceholder.typicode.com\"\n",
    "\n",
    "# to access users, add /users to the base URL\n",
    "# this call should fail\n",
    "getUsersURI = base+\"/user\"\n",
    "\n",
    "# use GET to make what should be a failed call\n",
    "response = requests.get(getUsersURI) \n",
    "# print the status code and the response, which should be a 404 error\n",
    "#this API violates the uniform interface constraint, since it doesn't return a self-descriptive message\n",
    "print(\"status code: \", response.status_code)\n",
    "print(json.dumps(response.json(),indent=4))\n",
    "\n"
   ]
  },
  {
   "cell_type": "code",
   "execution_count": null,
   "id": "documented-opening",
   "metadata": {},
   "outputs": [],
   "source": [
    "# X.4.2.c  Make a successful POST using the request library and json \n",
    "import requests\n",
    "import json\n",
    "\n",
    "# this website supports the testing of HTTP requests.\n",
    "base = \"https://jsonplaceholder.typicode.com\"\n",
    "# this query will be used to pass in the POST request\n",
    "query = {\n",
    "    'title': \"My First Post\",\n",
    "    'body': \"I wrote this post using an API\",\n",
    "    'userId': 1\n",
    "}\n",
    "# the post's URI is a list of dummy posts\n",
    "postPostsURI = base+\"/posts\"\n",
    "\n",
    "# this is an example of how to use POST to make a POST request to a website\n",
    "response = requests.post(postPostsURI,data = query)\n",
    "# the status code returned should be 201 meaning it was successfully created\n",
    "print(\"status code: \", response.status_code)\n",
    "print(json.dumps(response.json(),indent=4))"
   ]
  }
 ],
 "metadata": {
  "kernelspec": {
   "display_name": "Python 3",
   "language": "python",
   "name": "python3"
  },
  "language_info": {
   "codemirror_mode": {
    "name": "ipython",
    "version": 3
   },
   "file_extension": ".py",
   "mimetype": "text/x-python",
   "name": "python",
   "nbconvert_exporter": "python",
   "pygments_lexer": "ipython3",
   "version": "3.9.1"
  }
 },
 "nbformat": 4,
 "nbformat_minor": 5
}
